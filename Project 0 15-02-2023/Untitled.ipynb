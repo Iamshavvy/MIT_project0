{
 "cells": [
  {
   "cell_type": "code",
   "execution_count": 1,
   "id": "dc8be477",
   "metadata": {},
   "outputs": [
    {
     "name": "stdout",
     "output_type": "stream",
     "text": [
      "Enter a positive integer n: 15\n",
      "[[2]\n",
      " [4]\n",
      " [1]\n",
      " [9]\n",
      " [9]\n",
      " [4]\n",
      " [5]\n",
      " [3]\n",
      " [5]\n",
      " [7]\n",
      " [4]\n",
      " [3]\n",
      " [1]\n",
      " [4]\n",
      " [0]]\n"
     ]
    }
   ],
   "source": [
    "#import numpy\n",
    "import numpy as np\n",
    "#function called randomization with input arg n\n",
    "def randamization(n):\n",
    "    #use of random.randint to generate an array of size n*1\n",
    "    A = np.random.randint(10,size=(n,1))\n",
    "    #return the numpy array A\n",
    "    return A\n",
    "\n",
    "#main driver method\n",
    "if __name__=='__main__':\n",
    "    #get user input n\n",
    "    n=int(input(\"Enter a positive integer n: \"))\n",
    "    #if input is negative, display invalid input\n",
    "    if(n<=0):\n",
    "        print(\"Invalid input!!\")\n",
    "    #else call the function randomization with input as n\n",
    "    else:   \n",
    "        print(randamization(n))\n",
    "        "
   ]
  },
  {
   "cell_type": "code",
   "execution_count": 2,
   "id": "f4779ad2",
   "metadata": {},
   "outputs": [
    {
     "name": "stdout",
     "output_type": "stream",
     "text": [
      "A:\n",
      " [[2 0]\n",
      " [7 2]]\n",
      "B:\n",
      " [[2 5]\n",
      " [5 4]]\n",
      "s:\n",
      " [[ 4  5]\n",
      " [12  6]]\n"
     ]
    }
   ],
   "source": [
    "import numpy as np\n",
    "def operations(h,w):\n",
    "   #Create random matrix from numbers 0-9 of size h x w.\n",
    "   A = np.random.randint(10,size=(h,w))\n",
    "   B = np.random.randint(10,size=(h,w))\n",
    "   #calculate sum\n",
    "   s = A+B\n",
    "   return A,B,s #return values\n",
    "A,B,s = operations(2,2)\n",
    "print(\"A:\\n\",A)\n",
    "print(\"B:\\n\",B)\n",
    "print(\"s:\\n\",s)\n",
    "#CODE ENDS HERE-----------------"
   ]
  },
  {
   "cell_type": "code",
   "execution_count": 30,
   "id": "55652c80",
   "metadata": {},
   "outputs": [
    {
     "name": "stdout",
     "output_type": "stream",
     "text": [
      "[[0.99999834]]\n"
     ]
    }
   ],
   "source": [
    "import numpy as np\n",
    "import math\n",
    "def neural_network(inputs, weights):\n",
    "    \"\"\"\n",
    "     Takes an input vector and runs it through a 1-layer neural network\n",
    "     with a given weight matrix and returns the output.\n",
    "\n",
    "     Arg:\n",
    "       inputs - 2 x 1 NumPy array\n",
    "       weights - 2 x 1 NumPy array\n",
    "     Returns (in this order):\n",
    "       out - a 1 x 1 NumPy array, representing the output of the neural network\n",
    "    \"\"\"\n",
    "    result=(inputs*np.transpose(weights))\n",
    "    result=result[0][0]+result[1][1]\n",
    "    \n",
    "    out=math.tanh(result)\n",
    "    out=np.array([[out]])\n",
    "    return out\n",
    "    #Your code here\n",
    "Input=np.array([[2],[1]])\n",
    "Weights=np.array([[3],[1]])\n",
    "output=neural_network(Input,Weights)\n",
    "print(output)\n"
   ]
  },
  {
   "cell_type": "code",
   "execution_count": 27,
   "id": "2097db6d",
   "metadata": {},
   "outputs": [
    {
     "data": {
      "text/plain": [
       "array([[2],\n",
       "       [1]])"
      ]
     },
     "execution_count": 27,
     "metadata": {},
     "output_type": "execute_result"
    }
   ],
   "source": [
    "inpu=np.array([[2],[1]])\n",
    "inpu"
   ]
  },
  {
   "cell_type": "code",
   "execution_count": 25,
   "id": "1b461758",
   "metadata": {},
   "outputs": [
    {
     "data": {
      "text/plain": [
       "(1, 2)"
      ]
     },
     "execution_count": 25,
     "metadata": {},
     "output_type": "execute_result"
    }
   ],
   "source": [
    "inpu.shape"
   ]
  },
  {
   "cell_type": "code",
   "execution_count": 13,
   "id": "6230d346",
   "metadata": {},
   "outputs": [],
   "source": [
    "import math"
   ]
  },
  {
   "cell_type": "code",
   "execution_count": 33,
   "id": "407c3fe1",
   "metadata": {},
   "outputs": [
    {
     "name": "stdout",
     "output_type": "stream",
     "text": [
      "5\n",
      "2\n",
      "2.5\n"
     ]
    }
   ],
   "source": [
    "import numpy as np\n",
    "def scalar_function(x, y):\n",
    "    \"\"\"\n",
    "    Returns the f(x,y) defined in the problem statement.\n",
    "    \"\"\"\n",
    "    if (x<=y):\n",
    "        return x*y\n",
    "    else:\n",
    "        return x/y\n",
    "        \n",
    "    #Your code here\n",
    "x=int(input())\n",
    "y=int(input())\n",
    "print(scalar_function(x,y))"
   ]
  },
  {
   "cell_type": "code",
   "execution_count": 35,
   "id": "2e5607bf",
   "metadata": {},
   "outputs": [],
   "source": [
    "def vector_function(x, y):\n",
    "    f=np.vectorize(scalar_function)\n",
    "    return f(x,y)"
   ]
  },
  {
   "cell_type": "code",
   "execution_count": 36,
   "id": "30c7d01d",
   "metadata": {},
   "outputs": [
    {
     "name": "stdout",
     "output_type": "stream",
     "text": [
      "3\n",
      "6\n"
     ]
    }
   ],
   "source": [
    "# Debugged Code To find metices sum\n",
    "def get_sum_metrics(predictions, metrics=None):\n",
    "    #Check if metrics is None, if so then make it empty list\n",
    "    if metrics is None:\n",
    "        metrics = []\n",
    "        \n",
    "    for i in range(3):\n",
    "        metrics.append(lambda x, i=i: x + i)\n",
    "\n",
    "    sum_metrics = 0\n",
    "    for metric in metrics:\n",
    "        sum_metrics += metric(predictions)\n",
    "\n",
    "    return sum_metrics\n",
    "\n",
    "# Main Driver Function\n",
    "if __name__ == \"__main__\":\n",
    "    print(get_sum_metrics(0))\n",
    "    print(get_sum_metrics(1))"
   ]
  },
  {
   "cell_type": "code",
   "execution_count": null,
   "id": "e4541daa",
   "metadata": {},
   "outputs": [],
   "source": []
  }
 ],
 "metadata": {
  "kernelspec": {
   "display_name": "Python 3 (ipykernel)",
   "language": "python",
   "name": "python3"
  },
  "language_info": {
   "codemirror_mode": {
    "name": "ipython",
    "version": 3
   },
   "file_extension": ".py",
   "mimetype": "text/x-python",
   "name": "python",
   "nbconvert_exporter": "python",
   "pygments_lexer": "ipython3",
   "version": "3.9.12"
  }
 },
 "nbformat": 4,
 "nbformat_minor": 5
}
